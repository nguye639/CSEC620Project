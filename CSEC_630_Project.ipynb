{
 "cells": [
  {
   "cell_type": "code",
   "execution_count": 106,
   "metadata": {},
   "outputs": [],
   "source": [
    "import numpy as np\n",
    "import matplotlib as plt\n",
    "import os\n",
    "import urllib.parse\n",
    "import pandas as pd\n",
    "import re\n",
    "from sklearn.svm import SVC\n",
    "from sklearn.linear_model import LogisticRegression\n",
    "from sklearn.ensemble import RandomForestClassifier\n",
    "from sklearn.neighbors import KNeighborsClassifier\n",
    "from sklearn.preprocessing import StandardScaler\n",
    "from sklearn.decomposition import PCA\n",
    "from sklearn import metrics\n",
    "import matplotlib.pyplot as plt\n",
    "import seaborn as sns"
   ]
  },
  {
   "cell_type": "markdown",
   "metadata": {},
   "source": [
    "# Load Data"
   ]
  },
  {
   "cell_type": "code",
   "execution_count": 2,
   "metadata": {},
   "outputs": [],
   "source": [
    "def loadFile(name):\n",
    "    directory = str(os.getcwd())\n",
    "    filepath = os.path.join(directory, name)\n",
    "    \n",
    "    with open(filepath) as f:\n",
    "        mylist = f.read().splitlines() \n",
    "    \n",
    "    return mylist"
   ]
  },
  {
   "cell_type": "code",
   "execution_count": 3,
   "metadata": {},
   "outputs": [],
   "source": [
    "good = loadFile(\"goodqueries.txt\")\n",
    "bad = loadFile(\"badqueries.txt\")"
   ]
  },
  {
   "cell_type": "markdown",
   "metadata": {},
   "source": [
    "# Process Data"
   ]
  },
  {
   "cell_type": "code",
   "execution_count": 4,
   "metadata": {},
   "outputs": [],
   "source": [
    "goodY = np.full(len(good),0)\n",
    "badY = np.full(len(bad),1)"
   ]
  },
  {
   "cell_type": "code",
   "execution_count": 5,
   "metadata": {},
   "outputs": [],
   "source": [
    "allData = np.concatenate([good,bad])"
   ]
  },
  {
   "cell_type": "code",
   "execution_count": 6,
   "metadata": {},
   "outputs": [],
   "source": [
    "allLabels = np.concatenate([goodY,badY])"
   ]
  },
  {
   "cell_type": "code",
   "execution_count": 7,
   "metadata": {},
   "outputs": [],
   "source": [
    "DF = pd.DataFrame(np.array([allData,allLabels]).T,columns = [\"path\",\"label\"])\n"
   ]
  },
  {
   "cell_type": "code",
   "execution_count": 8,
   "metadata": {},
   "outputs": [],
   "source": [
    "def dirChange(tokens):\n",
    "    counter = 0\n",
    "    for i in tokens:\n",
    "        if i == \"..\" or i == \".|.\":\n",
    "            counter +=1\n",
    "    return counter\n",
    "\n",
    "def findIp(querie):\n",
    "    ip = re.findall( r'[0-9]+(?:\\.[0-9]+){3}', querie)   \n",
    "    return int(len(ip) >= 1)\n",
    "\n",
    "def countRegex(querie):\n",
    "    return len(querie) - len(re.findall(r\"\\w\",querie))\n"
   ]
  },
  {
   "cell_type": "code",
   "execution_count": 9,
   "metadata": {},
   "outputs": [],
   "source": [
    "#getting features\n",
    "\n",
    "length = []\n",
    "tokenNumber = []\n",
    "tokenRation = []\n",
    "upDirectory = []\n",
    "ipExist = []\n",
    "regexNumber = []\n",
    "\n",
    "for i in DF[\"path\"]:\n",
    "    tokens = i.split(\"/\")\n",
    "    tokens=list(filter(None, tokens))\n",
    "    length.append(len(i))\n",
    "    tokenNumber.append(len(tokens))\n",
    "    try:\n",
    "        tokenRation.append(len(set(tokens))/len(tokens))\n",
    "    except:\n",
    "        tokenRation.append(-1)\n",
    "        \n",
    "    upDirectory.append(dirChange(tokens))\n",
    "    ipExist.append(findIp(i))\n",
    "    regexNumber.append(countRegex(i))\n",
    "   \n",
    "    \n",
    "DF[\"length\"] = length\n",
    "DF[\"tokenNumber\"] = tokenNumber\n",
    "DF[\"tokenRation\"] = tokenRation\n",
    "DF[\"upDirectory\"] = upDirectory\n",
    "DF[\"ipExist\"] = ipExist\n",
    "DF[\"regexNumber\"] = regexNumber\n"
   ]
  },
  {
   "cell_type": "code",
   "execution_count": 10,
   "metadata": {},
   "outputs": [
    {
     "data": {
      "text/html": [
       "<div>\n",
       "<style scoped>\n",
       "    .dataframe tbody tr th:only-of-type {\n",
       "        vertical-align: middle;\n",
       "    }\n",
       "\n",
       "    .dataframe tbody tr th {\n",
       "        vertical-align: top;\n",
       "    }\n",
       "\n",
       "    .dataframe thead th {\n",
       "        text-align: right;\n",
       "    }\n",
       "</style>\n",
       "<table border=\"1\" class=\"dataframe\">\n",
       "  <thead>\n",
       "    <tr style=\"text-align: right;\">\n",
       "      <th></th>\n",
       "      <th>path</th>\n",
       "      <th>label</th>\n",
       "      <th>length</th>\n",
       "      <th>tokenNumber</th>\n",
       "      <th>tokenRation</th>\n",
       "      <th>upDirectory</th>\n",
       "      <th>ipExist</th>\n",
       "      <th>regexNumber</th>\n",
       "    </tr>\n",
       "  </thead>\n",
       "  <tbody>\n",
       "    <tr>\n",
       "      <th>0</th>\n",
       "      <td>/103886/</td>\n",
       "      <td>0</td>\n",
       "      <td>8</td>\n",
       "      <td>1</td>\n",
       "      <td>1.0</td>\n",
       "      <td>0</td>\n",
       "      <td>0</td>\n",
       "      <td>2</td>\n",
       "    </tr>\n",
       "    <tr>\n",
       "      <th>1</th>\n",
       "      <td>/rcanimal/</td>\n",
       "      <td>0</td>\n",
       "      <td>10</td>\n",
       "      <td>1</td>\n",
       "      <td>1.0</td>\n",
       "      <td>0</td>\n",
       "      <td>0</td>\n",
       "      <td>2</td>\n",
       "    </tr>\n",
       "    <tr>\n",
       "      <th>2</th>\n",
       "      <td>/458010b88d9ce/</td>\n",
       "      <td>0</td>\n",
       "      <td>15</td>\n",
       "      <td>1</td>\n",
       "      <td>1.0</td>\n",
       "      <td>0</td>\n",
       "      <td>0</td>\n",
       "      <td>2</td>\n",
       "    </tr>\n",
       "    <tr>\n",
       "      <th>3</th>\n",
       "      <td>/cclogovs/</td>\n",
       "      <td>0</td>\n",
       "      <td>10</td>\n",
       "      <td>1</td>\n",
       "      <td>1.0</td>\n",
       "      <td>0</td>\n",
       "      <td>0</td>\n",
       "      <td>2</td>\n",
       "    </tr>\n",
       "    <tr>\n",
       "      <th>4</th>\n",
       "      <td>/using-localization/</td>\n",
       "      <td>0</td>\n",
       "      <td>20</td>\n",
       "      <td>1</td>\n",
       "      <td>1.0</td>\n",
       "      <td>0</td>\n",
       "      <td>0</td>\n",
       "      <td>3</td>\n",
       "    </tr>\n",
       "  </tbody>\n",
       "</table>\n",
       "</div>"
      ],
      "text/plain": [
       "                   path label  length  tokenNumber  tokenRation  upDirectory  \\\n",
       "0              /103886/     0       8            1          1.0            0   \n",
       "1            /rcanimal/     0      10            1          1.0            0   \n",
       "2       /458010b88d9ce/     0      15            1          1.0            0   \n",
       "3            /cclogovs/     0      10            1          1.0            0   \n",
       "4  /using-localization/     0      20            1          1.0            0   \n",
       "\n",
       "   ipExist  regexNumber  \n",
       "0        0            2  \n",
       "1        0            2  \n",
       "2        0            2  \n",
       "3        0            2  \n",
       "4        0            3  "
      ]
     },
     "execution_count": 10,
     "metadata": {},
     "output_type": "execute_result"
    }
   ],
   "source": [
    "DF.head()"
   ]
  },
  {
   "cell_type": "markdown",
   "metadata": {},
   "source": [
    "# Data Analysis"
   ]
  },
  {
   "cell_type": "code",
   "execution_count": 11,
   "metadata": {},
   "outputs": [],
   "source": [
    "pos = DF[DF[\"label\"] == \"1\"]\n",
    "neg = DF[DF[\"label\"] == \"0\"].sample(frac=1)[:len(pos)]\n"
   ]
  },
  {
   "cell_type": "code",
   "execution_count": 12,
   "metadata": {},
   "outputs": [
    {
     "data": {
      "image/png": "[encoded data removed]",
      "text/plain": [
       "<Figure size 864x432 with 1 Axes>"
      ]
     },
     "metadata": {
      "needs_background": "light"
     },
     "output_type": "display_data"
    },
    {
     "data": {
      "image/png": "[encoded data removed]",
      "text/plain": [
       "<Figure size 864x432 with 1 Axes>"
      ]
     },
     "metadata": {
      "needs_background": "light"
     },
     "output_type": "display_data"
    },
    {
     "data": {
      "image/png": "[encoded data removed]",
      "text/plain": [
       "<Figure size 864x432 with 1 Axes>"
      ]
     },
     "metadata": {
      "needs_background": "light"
     },
     "output_type": "display_data"
    },
    {
     "data": {
      "image/png": "[encoded data removed]",
      "text/plain": [
       "<Figure size 864x432 with 1 Axes>"
      ]
     },
     "metadata": {
      "needs_background": "light"
     },
     "output_type": "display_data"
    },
    {
     "data": {
      "image/png": "[encoded data removed]",
      "text/plain": [
       "<Figure size 864x432 with 1 Axes>"
      ]
     },
     "metadata": {
      "needs_background": "light"
     },
     "output_type": "display_data"
    },
    {
     "data": {
      "image/png": "[encoded data removed]",
      "text/plain": [
       "<Figure size 864x432 with 1 Axes>"
      ]
     },
     "metadata": {
      "needs_background": "light"
     },
     "output_type": "display_data"
    }
   ],
   "source": [
    "features = pos.columns[2:]\n",
    "\n",
    "for i in features:\n",
    "    plt.figure(figsize = (12,6))\n",
    "    plt.hist(pos[i], alpha = .5, label = \"Bad Queries\")\n",
    "    plt.hist(neg[i], alpha = .5, label = \"Good Queries\")\n",
    "    plt.yscale(\"log\")\n",
    "    plt.title(i)\n",
    "    plt.legend();"
   ]
  },
  {
   "cell_type": "code",
   "execution_count": 99,
   "metadata": {},
   "outputs": [
    {
     "data": {
      "image/png": "[encoded data removed]",
      "text/plain": [
       "<Figure size 864x432 with 1 Axes>"
      ]
     },
     "metadata": {
      "needs_background": "light"
     },
     "output_type": "display_data"
    }
   ],
   "source": [
    "pca = PCA(n_components=2)\n",
    "pca.fit(DF[DF.columns[2:]])\n",
    "\n",
    "compressed = pca.fit_transform(DF[DF.columns[2:]])\n",
    "plt.figure(figsize = (12,6))\n",
    "plt.scatter(compressed.T[0],compressed.T[1], c = DF[\"label\"].to_numpy(dtype=int), alpha = .15);"
   ]
  },
  {
   "cell_type": "markdown",
   "metadata": {},
   "source": [
    "# Test-Train Split"
   ]
  },
  {
   "cell_type": "code",
   "execution_count": 13,
   "metadata": {},
   "outputs": [],
   "source": [
    "data = pd.concat([pos,neg])\n",
    "data = data.sample(frac = 1) "
   ]
  },
  {
   "cell_type": "code",
   "execution_count": 14,
   "metadata": {},
   "outputs": [],
   "source": [
    "train = data.iloc[:int(.8*len(data))]\n",
    "test = data.iloc[int(.8*len(data)):]"
   ]
  },
  {
   "cell_type": "code",
   "execution_count": 15,
   "metadata": {},
   "outputs": [],
   "source": [
    "xTrain = train[DF.columns[2:]]\n",
    "xTest = test[DF.columns[2:]]\n",
    "\n",
    "yTrain = train[\"label\"]\n",
    "yTest = test[\"label\"]\n"
   ]
  },
  {
   "cell_type": "code",
   "execution_count": 101,
   "metadata": {},
   "outputs": [],
   "source": [
    "scaler = StandardScaler()\n",
    "scaler.fit(xTrain)\n",
    "\n",
    "xTrain = scaler.transform(xTrain)\n",
    "xTest = scaler.transform(xTest)"
   ]
  },
  {
   "cell_type": "markdown",
   "metadata": {},
   "source": [
    "# Model Creation"
   ]
  },
  {
   "cell_type": "code",
   "execution_count": 109,
   "metadata": {},
   "outputs": [],
   "source": [
    "SVM = SVC().fit(xTrain, yTrain)\n",
    "LR = LogisticRegression().fit(xTrain, yTrain)\n",
    "RF = RandomForestClassifier().fit(xTrain, yTrain)\n",
    "KNN = KNeighborsClassifier().fit(xTrain, yTrain)"
   ]
  },
  {
   "cell_type": "code",
   "execution_count": 110,
   "metadata": {},
   "outputs": [],
   "source": [
    "SVMPred = SVM.predict(xTest)\n",
    "LRPred = LR.predict(xTest)\n",
    "RFPred = RF.predict(xTest)\n",
    "KNNPred = KNN.predict(xTest)"
   ]
  },
  {
   "cell_type": "code",
   "execution_count": 111,
   "metadata": {},
   "outputs": [],
   "source": [
    "preds = [SVMPred,LRPred,RFPred,KNNPred]"
   ]
  },
  {
   "cell_type": "markdown",
   "metadata": {},
   "source": [
    "# Model Analysis\n"
   ]
  },
  {
   "cell_type": "code",
   "execution_count": 112,
   "metadata": {},
   "outputs": [],
   "source": [
    "precision = []\n",
    "recall = []\n",
    "f1 = []\n",
    "\n",
    "for i in preds:\n",
    "    stuff = metrics.precision_recall_fscore_support(yTest.to_numpy(dtype=str), i, average='macro')\n",
    "    precision.append(stuff[0])\n",
    "    recall.append(stuff[1])\n",
    "    f1.append(stuff[2])\n"
   ]
  },
  {
   "cell_type": "code",
   "execution_count": 119,
   "metadata": {},
   "outputs": [],
   "source": [
    "metricData = np.array([precision,recall,f1]).T"
   ]
  },
  {
   "cell_type": "code",
   "execution_count": 225,
   "metadata": {},
   "outputs": [
    {
     "data": {
      "image/png": "[encoded data removed]",
      "text/plain": [
       "<Figure size 864x432 with 1 Axes>"
      ]
     },
     "metadata": {
      "needs_background": "light"
     },
     "output_type": "display_data"
    }
   ],
   "source": [
    "plt.figure(figsize = (12,6))\n",
    "ax = plt.subplot(111)\n",
    "\n",
    "x = np.array([1,2,3])\n",
    "\n",
    "ax.bar(x-0.2, metricData[0] , width=0.2, color='b', align='center', label = \"SVM\")\n",
    "ax.bar(x, metricData[1], width=0.2, color='g', align='center', label = \"Logistic Regression\")\n",
    "ax.bar(x+0.2, metricData[2], width=0.2, color='r', align='center', label = \"Random Forest\")\n",
    "ax.bar(x+0.4, metricData[3], width=0.2, color='y', align='center', label = \"KNN\")\n",
    "ax.set_xticks([1,2,3])\n",
    "ax.set_xticklabels([\"Precision\",\"Recall\",\"F1\"])\n",
    "\n",
    "plt.legend(loc=\"lower left\",ncol = 4);\n",
    "\n",
    "plt.savefig(\"Models.png\")"
   ]
  },
  {
   "cell_type": "markdown",
   "metadata": {},
   "source": [
    "# Model Tuning - Markov Chain Monte Carlo"
   ]
  },
  {
   "cell_type": "code",
   "execution_count": 144,
   "metadata": {},
   "outputs": [],
   "source": [
    "def fitness(numTrees, maxDepth, minSamples, xTrain, yTrain, xTest, yTest):\n",
    "\n",
    "    RF = RandomForestClassifier(n_estimators = numTrees,\n",
    "                                max_depth = maxDepth,\n",
    "                                min_samples_split = minSamples,\n",
    "                               n_jobs = -1).fit(xTrain, yTrain)\n",
    "    RFPred = RF.predict(xTest)\n",
    "    stuff = metrics.precision_recall_fscore_support(yTest.to_numpy(dtype=str), RFPred, average='macro')\n",
    "    return(stuff[2])\n"
   ]
  },
  {
   "cell_type": "code",
   "execution_count": 213,
   "metadata": {},
   "outputs": [
    {
     "name": "stdout",
     "output_type": "stream",
     "text": [
      "0.9200151167867239 0\n",
      "0.9199050126523429 4\n",
      "0.9202814721856762 7\n",
      "0.9195064768092599 8\n",
      "0.919811773843106 9\n",
      "0.9199619836804308 10\n",
      "0.9199638362757168 14\n",
      "0.9203274080080338 19\n",
      "0.9195480639966296 23\n",
      "0.9199059794565038 25\n",
      "0.9195578079727417 26\n",
      "0.9189872517545035 29\n",
      "0.9197096074373912 30\n",
      "0.9203814239357684 31\n",
      "0.9199661130185931 38\n",
      "0.9201204371136673 40\n",
      "0.9198072288511467 43\n",
      "0.9200174050425325 44\n",
      "0.9202187877062928 45\n",
      "0.9204784237552223 49\n",
      "0.9200645233347284 57\n",
      "0.9202738201076497 63\n",
      "0.9198585045587027 64\n",
      "0.9203754230642169 66\n",
      "0.9197681736115924 72\n",
      "0.9195101989582164 73\n",
      "0.919716826794796 74\n",
      "0.919716003524306 78\n",
      "0.919772209173805 79\n",
      "0.9198737337877139 81\n",
      "0.9195594890475021 83\n",
      "0.919979262022097 84\n",
      "0.920292600406695 91\n",
      "0.9199709693491995 92\n",
      "0.9202239228288617 93\n",
      "0.9199633757271563 95\n",
      "0.9199747867836745 102\n",
      "0.9201792669301434 106\n",
      "0.9197631017371195 107\n",
      "0.9200205358551424 108\n",
      "0.9198095230543388 110\n",
      "0.920488032495773 111\n",
      "0.9199134640484357 116\n",
      "0.9201240312916108 119\n",
      "0.9197582327926673 120\n",
      "0.9200174050425325 122\n",
      "0.9193955725355134 123\n",
      "0.9196061107937037 124\n",
      "0.9198712739736745 125\n",
      "0.9199183521428953 129\n",
      "0.9200205358551424 130\n",
      "0.9202792733641636 131\n",
      "0.9200677793454886 133\n",
      "0.9201226964475394 136\n",
      "0.9202314477501499 137\n",
      "0.9200222867929371 138\n",
      "0.9197591336915557 139\n",
      "0.9202774832359456 144\n",
      "0.9201739932445188 146\n",
      "0.9202270817807949 149\n",
      "0.9199679032165172 153\n",
      "0.9202220797042637 158\n",
      "0.9205357511435371 161\n",
      "0.9197004708792749 164\n",
      "0.9197582327926673 165\n",
      "0.9202220797042637 166\n",
      "0.919858038204691 167\n",
      "0.9201143604236658 168\n",
      "0.9195438347933471 169\n",
      "0.919651544723496 170\n",
      "0.9201708019816347 171\n",
      "0.920223004722301 174\n",
      "0.920067319395043 179\n",
      "0.9201143604236658 181\n",
      "0.9200118404672747 186\n",
      "0.9191165320045722 187\n",
      "0.9199772537980921 188\n",
      "0.9196124890587194 193\n",
      "0.9198182657951504 194\n",
      "0.9202941420909647 198\n",
      "0.9192951815909609 200\n",
      "0.9203310204364551 201\n",
      "0.9204336191216794 204\n",
      "0.9199139170911221 205\n",
      "0.920121797903345 208\n",
      "0.9202279687915564 214\n",
      "0.9202292863536541 218\n",
      "0.919917039833718 224\n",
      "0.9201244727806067 225\n",
      "0.9202301560930204 227\n",
      "0.9203827673675281 228\n",
      "0.920121797903345 230\n",
      "0.9201744422243041 232\n",
      "0.9197573249433237 234\n",
      "0.9199097772662359 235\n",
      "0.9200286061082144 237\n",
      "0.9196082803851828 242\n",
      "0.919916598929678 243\n",
      "0.9197155892828743 245\n",
      "0.9198161452064235 246\n",
      "0.920278381752658 247\n",
      "0.9202823396325785 248\n",
      "0.9197078357664281 252\n",
      "0.9197617946901462 253\n",
      "0.9203310204364551 255\n",
      "0.9198161452064235 260\n",
      "0.9199692276695173 262\n",
      "0.9197577797368318 263\n",
      "0.9201195212709381 264\n",
      "0.920856311692767 265\n",
      "0.9196056716541385 269\n",
      "0.9199093086124756 271\n",
      "0.919914817973753 273\n",
      "0.9200151167867239 274\n",
      "0.9201226964475394 277\n",
      "0.9200682375647776 278\n",
      "0.9196052307740181 280\n",
      "0.9196587334237071 283\n",
      "0.9200227201986405 284\n",
      "0.9197586841108891 290\n",
      "0.9199692276695173 291\n",
      "0.9197122127958031 296\n",
      "0.9199665631675966 297\n",
      "0.9197613555335938 300\n",
      "0.9200709505295417 301\n",
      "0.9203823212810117 302\n",
      "0.9198617204366547 310\n",
      "0.9200722836460777 312\n",
      "0.9200196499964614 313\n",
      "0.919192118079142 315\n",
      "0.9195004062919356 316\n",
      "0.9199254938779702 317\n",
      "0.91945514254201 321\n",
      "0.9196670931799542 322\n",
      "0.9198666021599975 325\n",
      "0.9195539236919339 334\n",
      "0.9198108787368597 335\n",
      "0.9203840952833491 336\n",
      "0.9196551947455602 342\n",
      "0.9199642950908697 344\n",
      "0.9197609146398329 351\n",
      "0.9202865733286731 352\n",
      "0.9193486646183573 362\n",
      "0.9194004155639421 363\n",
      "0.9207980793944268 364\n",
      "0.919916598929678 369\n",
      "0.9204367215998848 370\n",
      "0.9200713966323883 373\n",
      "0.920228848893418 377\n",
      "0.9203310204364551 381\n",
      "0.9200668577133817 386\n",
      "0.920330574921326 387\n",
      "0.919916598929678 388\n",
      "0.9194568048702203 389\n",
      "0.9199125527600268 390\n",
      "0.9202261878606728 392\n",
      "0.9192902746544533 405\n",
      "0.91933924783561 406\n",
      "0.9198589691768755 407\n",
      "0.9200691488101242 409\n",
      "0.9197559501361732 410\n",
      "0.9197028202308444 411\n",
      "0.9197060362788992 412\n",
      "0.9199107093694054 413\n",
      "0.9201730900990579 415\n",
      "0.9198062990121687 418\n",
      "0.9201670510813129 419\n",
      "0.9198072288511467 422\n",
      "0.9207949250702507 423\n",
      "0.919328556273242 424\n",
      "0.9195599049637309 425\n",
      "0.919716416028262 426\n",
      "0.9197706157814339 427\n",
      "0.9195093840073242 429\n",
      "0.9199756160491896 430\n",
      "0.9200851474453904 431\n",
      "0.9190965167969825 435\n",
      "0.9195097923536507 436\n",
      "0.9199278949159602 439\n",
      "0.9193015321906872 444\n",
      "0.9193499470114309 445\n",
      "0.9199696656883581 446\n",
      "0.9193978000876335 447\n",
      "0.9194038051635844 448\n",
      "0.9200281969368902 450\n",
      "0.9195097923536507 452\n",
      "0.9199726833091625 453\n",
      "0.9196095612570154 456\n",
      "0.9196670931799542 457\n",
      "0.9198635199006129 458\n",
      "0.9199161562917191 459\n",
      "0.9200705026959504 460\n",
      "0.9202270817807949 461\n",
      "0.9197564101430539 462\n",
      "0.9200187572106462 463\n",
      "0.9200200937916649 471\n",
      "0.9200682375647776 472\n",
      "0.9200722836460777 473\n",
      "0.9202788284215326 474\n",
      "0.9194459576373635 478\n",
      "0.9196596006992199 479\n",
      "0.9197613555335938 481\n",
      "0.9199200776170438 482\n",
      "0.9200200937916649 483\n",
      "0.9198603526169616 484\n",
      "0.9196501472532116 485\n",
      "0.919914817973753 486\n",
      "0.9200205358551424 489\n",
      "0.920228848893418 492\n",
      "0.920229722086836 494\n",
      "0.9196496779490596 495\n",
      "0.9201172013870051 496\n",
      "0.9203296787155679 499\n"
     ]
    }
   ],
   "source": [
    "numTrees = [np.random.randint(100)]\n",
    "maxDepth = [np.random.randint(100)]\n",
    "minSamples = [np.random.randint(20)]\n",
    "score1 = fitness(numTrees[0], maxDepth[0], minSamples[0], xTrain, yTrain, xTest, yTest)\n",
    "scores = [score1]\n",
    "\n",
    "steps = 500\n",
    "\n",
    "for i in range(0,steps):\n",
    "    \n",
    "    tempNumTrees = numTrees[i] + np.random.randint(-20,20)\n",
    "    tempMaxDepth = maxDepth[i] + np.random.randint(-20,20)\n",
    "    tempMinSamples = minSamples[i] + np.random.randint(-10,10)\n",
    "    \n",
    "    if tempNumTrees < 1:\n",
    "        tempNumTrees = 200\n",
    "    if  tempMaxDepth < 1:\n",
    "        tempMaxDepth = 200\n",
    "    if tempMinSamples < 2:\n",
    "        tempMinSamples = 50\n",
    "        \n",
    "    score2 = fitness(tempNumTrees, tempMaxDepth, tempMinSamples, xTrain, yTrain, xTest, yTest)\n",
    "    \n",
    "    p = np.random.random()\n",
    "    \n",
    "    if score2 > scores[i] or p > .8:\n",
    "        numTrees.append(tempNumTrees)\n",
    "        maxDepth.append(tempMaxDepth)\n",
    "        minSamples.append(tempMinSamples)\n",
    "        scores.append(score2)\n",
    "        print(score2,i)\n",
    "    else:\n",
    "        numTrees.append(numTrees[i])\n",
    "        maxDepth.append(maxDepth[i])\n",
    "        minSamples.append(minSamples[i])\n",
    "        scores.append(scores[i])\n"
   ]
  },
  {
   "cell_type": "code",
   "execution_count": 219,
   "metadata": {},
   "outputs": [
    {
     "data": {
      "image/png": "[encoded data removed]",
      "text/plain": [
       "<Figure size 1152x432 with 3 Axes>"
      ]
     },
     "metadata": {
      "needs_background": "light"
     },
     "output_type": "display_data"
    }
   ],
   "source": [
    "plt.figure(figsize = (16,6))\n",
    "plt.subplot(1,3,1)\n",
    "y1, x1, _ = plt.hist(numTrees, bins = 20, align='left')\n",
    "plt.title(\"Number of Trees\")\n",
    "plt.xlabel(\"Trees\")\n",
    "plt.ylabel(\"Counts\")\n",
    "plt.axvline(x=x1[np.argmax(y1)], c = \"orange\", label = str(int(x1[np.argmax(y1)])))\n",
    "plt.legend()\n",
    "\n",
    "plt.subplot(1,3,2)\n",
    "y2, x2, _ = plt.hist(maxDepth, bins = 20, align='left')\n",
    "plt.title(\"Max Depth\")\n",
    "plt.xlabel(\"Depth\")\n",
    "plt.ylabel(\"Counts\")\n",
    "plt.axvline(x=x2[np.argmax(y2)], c = \"orange\", label = str(int(x2[np.argmax(y2)])))\n",
    "plt.legend()\n",
    "\n",
    "plt.subplot(1,3,3)\n",
    "y3, x3, _ = plt.hist(minSamples, bins = 20, align='left')\n",
    "plt.title(\"Min Sample Splits\")\n",
    "plt.xlabel(\"Samples\")\n",
    "plt.ylabel(\"Counts\")\n",
    "plt.axvline(x=x3[np.argmax(y3)], c = \"orange\", label = str(int(x3[np.argmax(y3)])))\n",
    "plt.legend();\n",
    "\n",
    "plt.savefig(\"MCMC.png\")"
   ]
  },
  {
   "cell_type": "code",
   "execution_count": 215,
   "metadata": {},
   "outputs": [
    {
     "data": {
      "text/plain": [
       "0.9199701019745476"
      ]
     },
     "execution_count": 215,
     "metadata": {},
     "output_type": "execute_result"
    }
   ],
   "source": [
    "fitness(int(x1[np.argmax(y1)]), int(x2[np.argmax(y2)]), int(x3[np.argmax(y3)]), xTrain, yTrain, xTest, yTest)"
   ]
  },
  {
   "cell_type": "code",
   "execution_count": 224,
   "metadata": {},
   "outputs": [
    {
     "data": {
      "image/png": "[encoded data removed]",
      "text/plain": [
       "<Figure size 576x432 with 1 Axes>"
      ]
     },
     "metadata": {
      "needs_background": "light"
     },
     "output_type": "display_data"
    }
   ],
   "source": [
    "plt.figure(figsize = (8,6))\n",
    "plt.hist(scores)\n",
    "plt.title(\"Scores\")\n",
    "plt.xlabel(\"F1 Score\")\n",
    "plt.ylabel(\"Count\");\n",
    "plt.savefig(\"Score.png\")"
   ]
  },
  {
   "cell_type": "code",
   "execution_count": 223,
   "metadata": {},
   "outputs": [
    {
     "data": {
      "text/plain": [
       "0.0002935909769241207"
      ]
     },
     "execution_count": 223,
     "metadata": {},
     "output_type": "execute_result"
    }
   ],
   "source": [
    "np.std(scores)"
   ]
  },
  {
   "cell_type": "code",
   "execution_count": null,
   "metadata": {},
   "outputs": [],
   "source": []
  }
 ],
 "metadata": {
  "kernelspec": {
   "display_name": "Python 3 (ipykernel)",
   "language": "python",
   "name": "python3"
  },
  "language_info": {
   "codemirror_mode": {
    "name": "ipython",
    "version": 3
   },
   "file_extension": ".py",
   "mimetype": "text/x-python",
   "name": "python",
   "nbconvert_exporter": "python",
   "pygments_lexer": "ipython3",
   "version": "3.9.7"
  }
 },
 "nbformat": 4,
 "nbformat_minor": 2
}
